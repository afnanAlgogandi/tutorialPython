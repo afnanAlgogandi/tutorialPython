{
  "nbformat": 4,
  "nbformat_minor": 0,
  "metadata": {
    "kernelspec": {
      "display_name": "Python 3",
      "language": "python",
      "name": "python3"
    },
    "language_info": {
      "codemirror_mode": {
        "name": "ipython",
        "version": 3
      },
      "file_extension": ".py",
      "mimetype": "text/x-python",
      "name": "python",
      "nbconvert_exporter": "python",
      "pygments_lexer": "ipython3",
      "version": "3.7.9"
    },
    "colab": {
      "name": "06-If_For_While_Functions.ipynb",
      "provenance": [],
      "collapsed_sections": [
        "wm9bK7g9pHtk",
        "etvAXLwJpHtl",
        "lsvimzhXpHtm",
        "V1_drfbtpHtn",
        "oIXqE0eYpHtq",
        "Y5LFuLVLpHtq",
        "TU6ko2eypHtr",
        "pGVziTdjpHty",
        "6kynP6cipHtz"
      ],
      "include_colab_link": true
    }
  },
  "cells": [
    {
      "cell_type": "markdown",
      "metadata": {
        "id": "view-in-github",
        "colab_type": "text"
      },
      "source": [
        "<a href=\"https://colab.research.google.com/github/afnanAlgognadi/tutorialPython/blob/main/06_If_For_While_Functions.ipynb\" target=\"_parent\"><img src=\"https://colab.research.google.com/assets/colab-badge.svg\" alt=\"Open In Colab\"/></a>"
      ]
    },
    {
      "cell_type": "markdown",
      "metadata": {
        "id": "e24Nz0p-pHtV"
      },
      "source": [
        "# If statements"
      ]
    },
    {
      "cell_type": "markdown",
      "metadata": {
        "id": "D249I3-TpHtY"
      },
      "source": [
        "## Indentation\n",
        "\n",
        "There are no brackets for if statments or \"end if\" type of s"
      ]
    },
    {
      "cell_type": "markdown",
      "metadata": {
        "id": "IFvO_HUWpHtZ"
      },
      "source": [
        "## Example 1\n"
      ]
    },
    {
      "cell_type": "code",
      "source": [
        "x = 4\n",
        "\n",
        "if x<10:\n",
        "  for i in range(x):\n",
        "    print(\"hello\")\n",
        "\n",
        "\n",
        "else:\n",
        "  print(\"numebr is too large\")\n",
        "\n",
        "\n",
        "\n"
      ],
      "metadata": {
        "colab": {
          "base_uri": "https://localhost:8080/"
        },
        "id": "Xj2Y7mYnLRlD",
        "outputId": "72cfba35-e34d-48d1-f2f6-09a521d7a70d"
      },
      "execution_count": null,
      "outputs": [
        {
          "output_type": "stream",
          "name": "stdout",
          "text": [
            "hello\n",
            "hello\n",
            "hello\n",
            "hello\n"
          ]
        }
      ]
    },
    {
      "cell_type": "code",
      "source": [
        "x = [0,1,2,3,4,5,6]\n",
        "\n",
        "for e in range(10):\n",
        "  print(e)\n"
      ],
      "metadata": {
        "colab": {
          "base_uri": "https://localhost:8080/"
        },
        "id": "CSk491nnMAVB",
        "outputId": "67d3d010-8dbb-4bb8-83f9-a104c1ecac4e"
      },
      "execution_count": null,
      "outputs": [
        {
          "output_type": "stream",
          "name": "stdout",
          "text": [
            "0\n",
            "1\n",
            "2\n",
            "3\n",
            "4\n",
            "5\n",
            "6\n",
            "7\n",
            "8\n",
            "9\n"
          ]
        }
      ]
    },
    {
      "cell_type": "code",
      "metadata": {
        "id": "4lVIJUtwpHta",
        "outputId": "594cb7f3-914d-4f7a-a21f-a039c2fac350"
      },
      "source": [
        "if True:\n",
        "    print('The condition is satisfied!')"
      ],
      "execution_count": null,
      "outputs": [
        {
          "output_type": "stream",
          "text": [
            "The condition is satisfied!\n"
          ],
          "name": "stdout"
        }
      ]
    },
    {
      "cell_type": "markdown",
      "metadata": {
        "id": "smdrr6LkpHtc"
      },
      "source": [
        "Let's add in some else logic:"
      ]
    },
    {
      "cell_type": "code",
      "metadata": {
        "id": "JpW9dzbfpHtc",
        "outputId": "b48adf35-bd33-4cb2-cce6-ce69e2b92b01"
      },
      "source": [
        "x = False\n",
        "\n",
        "if x:\n",
        "    print('The condition is satisfied!')\n",
        "else:\n",
        "    print('The condition was NOT is satisfied!')"
      ],
      "execution_count": null,
      "outputs": [
        {
          "output_type": "stream",
          "text": [
            "The condition was NOT is satisfied!\n"
          ],
          "name": "stdout"
        }
      ]
    },
    {
      "cell_type": "markdown",
      "metadata": {
        "id": "N8pCTIk-pHtd"
      },
      "source": [
        "### Multiple Cases"
      ]
    },
    {
      "cell_type": "code",
      "metadata": {
        "id": "NZeCSEr8pHte",
        "outputId": "eb2ef070-6887-434d-f511-3ed78937d356"
      },
      "source": [
        "loc = 'dry cleaners'\n",
        "\n",
        "if loc == 'car shop':\n",
        "    print('Welcome to the Car Shop!')\n",
        "elif loc == 'dry cleaners':\n",
        "    print('Welcome to the dry cleaners!')\n",
        "else:\n",
        "    print('I do not identify this location')"
      ],
      "execution_count": null,
      "outputs": [
        {
          "output_type": "stream",
          "text": [
            "Welcome to the dry cleaners!\n"
          ],
          "name": "stdout"
        }
      ]
    },
    {
      "cell_type": "code",
      "metadata": {
        "id": "Unp4MPURpHtg",
        "outputId": "b7a2de25-c464-4a27-8181-faf0a3a398d0"
      },
      "source": [
        "person = 'George'\n",
        "\n",
        "if person == 'Sammy':\n",
        "    print('Welcome Sammy!')\n",
        "elif person =='George':\n",
        "    print('Welcome George!')\n",
        "else:\n",
        "    print(\"Welcome, what's your name?\")"
      ],
      "execution_count": null,
      "outputs": [
        {
          "output_type": "stream",
          "text": [
            "Welcome George!\n"
          ],
          "name": "stdout"
        }
      ]
    },
    {
      "cell_type": "markdown",
      "metadata": {
        "id": "QKSHrIuFpHth"
      },
      "source": [
        "# For Loops"
      ]
    },
    {
      "cell_type": "markdown",
      "metadata": {
        "id": "Dhztix7FpHth"
      },
      "source": [
        "The general format of a For loop is:\n",
        "\n",
        "    for item in object:\n",
        "        statements to do stuff"
      ]
    },
    {
      "cell_type": "markdown",
      "metadata": {
        "id": "AwraaMujpHth"
      },
      "source": [
        "## Example 1"
      ]
    },
    {
      "cell_type": "code",
      "metadata": {
        "id": "0885zcnjpHti"
      },
      "source": [
        "list1 = [1,2,3,4,5,6,7,8,9,10]"
      ],
      "execution_count": null,
      "outputs": []
    },
    {
      "cell_type": "code",
      "metadata": {
        "id": "uR_9qSrypHti",
        "outputId": "fd61b929-6b96-4434-ed57-68996787fbe9"
      },
      "source": [
        "for num in list1:\n",
        "    print(num)"
      ],
      "execution_count": null,
      "outputs": [
        {
          "output_type": "stream",
          "text": [
            "1\n",
            "2\n",
            "3\n",
            "4\n",
            "5\n",
            "6\n",
            "7\n",
            "8\n",
            "9\n",
            "10\n"
          ],
          "name": "stdout"
        }
      ]
    },
    {
      "cell_type": "markdown",
      "metadata": {
        "id": "UQZBB0ippHti"
      },
      "source": [
        "## Example 2"
      ]
    },
    {
      "cell_type": "code",
      "metadata": {
        "id": "ydjwy4A9pHtj",
        "outputId": "e74d12bf-45e7-4ee2-fb6a-e5412543215f"
      },
      "source": [
        "for num in list1:\n",
        "    if num % 2 == 0:\n",
        "        print(num)"
      ],
      "execution_count": null,
      "outputs": [
        {
          "output_type": "stream",
          "text": [
            "2\n",
            "4\n",
            "6\n",
            "8\n",
            "10\n"
          ],
          "name": "stdout"
        }
      ]
    },
    {
      "cell_type": "code",
      "metadata": {
        "id": "n3VCDvMwpHtk",
        "outputId": "c615e7fd-345e-4059-f0bf-a6ef8c224635"
      },
      "source": [
        "for num in list1:\n",
        "    if num % 2 == 0:\n",
        "        print(num)\n",
        "    else:\n",
        "        print('Odd number')"
      ],
      "execution_count": null,
      "outputs": [
        {
          "output_type": "stream",
          "text": [
            "Odd number\n",
            "2\n",
            "Odd number\n",
            "4\n",
            "Odd number\n",
            "6\n",
            "Odd number\n",
            "8\n",
            "Odd number\n",
            "10\n"
          ],
          "name": "stdout"
        }
      ]
    },
    {
      "cell_type": "markdown",
      "metadata": {
        "id": "wm9bK7g9pHtk"
      },
      "source": [
        "## Example 3"
      ]
    },
    {
      "cell_type": "code",
      "metadata": {
        "id": "zYCi5jg9pHtk",
        "outputId": "208eb70f-bf57-467c-cd2e-d77f71beed83"
      },
      "source": [
        "# Start sum at zero\n",
        "list_sum = 0 \n",
        "\n",
        "for num in list1:\n",
        "    list_sum += num\n",
        "\n",
        "print(list_sum)"
      ],
      "execution_count": null,
      "outputs": [
        {
          "output_type": "stream",
          "text": [
            "55\n"
          ],
          "name": "stdout"
        }
      ]
    },
    {
      "cell_type": "markdown",
      "metadata": {
        "id": "etvAXLwJpHtl"
      },
      "source": [
        "## Example 4: Loop over a string"
      ]
    },
    {
      "cell_type": "code",
      "metadata": {
        "id": "kfy0PItopHtl",
        "outputId": "b57bf8d2-0249-4561-a8a2-728448b7cc75"
      },
      "source": [
        "for letter in 'This is a string.':\n",
        "    print(letter)"
      ],
      "execution_count": null,
      "outputs": [
        {
          "output_type": "stream",
          "text": [
            "T\n",
            "h\n",
            "i\n",
            "s\n",
            " \n",
            "i\n",
            "s\n",
            " \n",
            "a\n",
            " \n",
            "s\n",
            "t\n",
            "r\n",
            "i\n",
            "n\n",
            "g\n",
            ".\n"
          ],
          "name": "stdout"
        }
      ]
    },
    {
      "cell_type": "markdown",
      "metadata": {
        "id": "lsvimzhXpHtm"
      },
      "source": [
        "## Example 5: Loop over a tuple"
      ]
    },
    {
      "cell_type": "code",
      "metadata": {
        "id": "Y_52BLc-pHtm",
        "outputId": "8e65b7db-be69-49e0-d796-4bd39675307f"
      },
      "source": [
        "my_tuple = (1,2,3,4)\n",
        "for element in my_tuple:\n",
        "    print(element)"
      ],
      "execution_count": null,
      "outputs": [
        {
          "output_type": "stream",
          "text": [
            "1\n",
            "2\n",
            "3\n",
            "4\n"
          ],
          "name": "stdout"
        }
      ]
    },
    {
      "cell_type": "markdown",
      "metadata": {
        "id": "V1_drfbtpHtn"
      },
      "source": [
        "## Example 6: Loop over a dictionary"
      ]
    },
    {
      "cell_type": "code",
      "metadata": {
        "id": "GmnifISApHtn"
      },
      "source": [
        "my_dict = {'key_one' : 1, 'key_two' : 2, 'key_three' : 3}"
      ],
      "execution_count": null,
      "outputs": []
    },
    {
      "cell_type": "code",
      "metadata": {
        "id": "dtHDwpVQpHto",
        "outputId": "56daa013-c3fb-46a1-d973-1c50af776527"
      },
      "source": [
        "for element in my_dict:\n",
        "    print(element)"
      ],
      "execution_count": null,
      "outputs": [
        {
          "output_type": "stream",
          "text": [
            "key_one\n",
            "key_two\n",
            "key_three\n"
          ],
          "name": "stdout"
        }
      ]
    },
    {
      "cell_type": "code",
      "metadata": {
        "id": "K8v2ymhHpHto",
        "outputId": "3dfd19db-6453-46a8-edf5-da7c02d637dd"
      },
      "source": [
        "my_dict.items()"
      ],
      "execution_count": null,
      "outputs": [
        {
          "output_type": "execute_result",
          "data": {
            "text/plain": [
              "dict_items([('key_one', 1), ('key_two', 2), ('key_three', 3)])"
            ]
          },
          "metadata": {
            "tags": []
          },
          "execution_count": 21
        }
      ]
    },
    {
      "cell_type": "code",
      "metadata": {
        "id": "FQbmVkXQpHto",
        "outputId": "c7fbdff2-55db-4ca4-a444-347ed6f9628b"
      },
      "source": [
        "for key, val in my_dict.items():\n",
        "    print('Key: {}. Value: {}'.format(key,val))"
      ],
      "execution_count": null,
      "outputs": [
        {
          "output_type": "stream",
          "text": [
            "Key: key_one. Value: 1\n",
            "Key: key_two. Value: 2\n",
            "Key: key_three. Value: 3\n"
          ],
          "name": "stdout"
        }
      ]
    },
    {
      "cell_type": "code",
      "metadata": {
        "id": "2CI8u-EepHtp",
        "outputId": "aad8b517-086b-43e6-f05f-1a3d3be0a5cd"
      },
      "source": [
        "my_dict.keys()"
      ],
      "execution_count": null,
      "outputs": [
        {
          "output_type": "execute_result",
          "data": {
            "text/plain": [
              "dict_keys(['key_one', 'key_two', 'key_three'])"
            ]
          },
          "metadata": {
            "tags": []
          },
          "execution_count": 25
        }
      ]
    },
    {
      "cell_type": "code",
      "metadata": {
        "id": "YvuunY-MpHtp",
        "outputId": "2b34e2a3-9a96-4aac-9e88-f592103c09db"
      },
      "source": [
        "for element in my_dict.keys():\n",
        "    print(element)"
      ],
      "execution_count": null,
      "outputs": [
        {
          "output_type": "stream",
          "text": [
            "key_one\n",
            "key_two\n",
            "key_three\n"
          ],
          "name": "stdout"
        }
      ]
    },
    {
      "cell_type": "code",
      "metadata": {
        "id": "Wi2Cv6vWpHtp",
        "outputId": "b0821a6d-65a4-47bd-d177-54dececf79ae"
      },
      "source": [
        "my_dict.values()"
      ],
      "execution_count": null,
      "outputs": [
        {
          "output_type": "execute_result",
          "data": {
            "text/plain": [
              "dict_values([1, 2, 3])"
            ]
          },
          "metadata": {
            "tags": []
          },
          "execution_count": 27
        }
      ]
    },
    {
      "cell_type": "code",
      "metadata": {
        "id": "97jgOONapHtq",
        "outputId": "0d81e6f9-674f-476d-8752-01b6ca9ceb13"
      },
      "source": [
        "for element in my_dict.values():\n",
        "    print(element)"
      ],
      "execution_count": null,
      "outputs": [
        {
          "output_type": "stream",
          "text": [
            "1\n",
            "2\n",
            "3\n"
          ],
          "name": "stdout"
        }
      ]
    },
    {
      "cell_type": "markdown",
      "metadata": {
        "id": "oIXqE0eYpHtq"
      },
      "source": [
        "## Example 7: Loop over list of 'things'"
      ]
    },
    {
      "cell_type": "code",
      "metadata": {
        "id": "arXgWpz8pHtq",
        "outputId": "ab294230-a068-440a-d59b-c1a5cf5c0577"
      },
      "source": [
        "list2 = [(2,4),(6,8),(10,12)]\n",
        "\n",
        "for element in list2:\n",
        "    print(element)"
      ],
      "execution_count": null,
      "outputs": [
        {
          "output_type": "stream",
          "text": [
            "(2, 4)\n",
            "(6, 8)\n",
            "(10, 12)\n"
          ],
          "name": "stdout"
        }
      ]
    },
    {
      "cell_type": "markdown",
      "metadata": {
        "id": "Y5LFuLVLpHtq"
      },
      "source": [
        "### with unpacking"
      ]
    },
    {
      "cell_type": "code",
      "metadata": {
        "id": "hw-QTGsfpHtr",
        "outputId": "f8194c50-b970-44ce-d116-0000e26d35b4"
      },
      "source": [
        "for (v1,v2) in list2:\n",
        "    print(v2)"
      ],
      "execution_count": null,
      "outputs": [
        {
          "output_type": "stream",
          "text": [
            "4\n",
            "8\n",
            "12\n"
          ],
          "name": "stdout"
        }
      ]
    },
    {
      "cell_type": "markdown",
      "metadata": {
        "id": "TU6ko2eypHtr"
      },
      "source": [
        "## Useful functions\n",
        "\n",
        "We will show how to use range to generate a sequence of integers"
      ]
    },
    {
      "cell_type": "code",
      "metadata": {
        "id": "-IoU4o3epHtr",
        "outputId": "e54929be-2672-43de-a709-4c14da54ad05",
        "colab": {
          "base_uri": "https://localhost:8080/"
        }
      },
      "source": [
        "range(10)"
      ],
      "execution_count": 3,
      "outputs": [
        {
          "output_type": "execute_result",
          "data": {
            "text/plain": [
              "range(0, 10)"
            ]
          },
          "metadata": {},
          "execution_count": 3
        }
      ]
    },
    {
      "cell_type": "code",
      "metadata": {
        "id": "I7xWbSx4pHtr",
        "outputId": "868fa8e1-9f59-46a9-f220-1c386187b347",
        "colab": {
          "base_uri": "https://localhost:8080/"
        }
      },
      "source": [
        "list(range(10))"
      ],
      "execution_count": 4,
      "outputs": [
        {
          "output_type": "execute_result",
          "data": {
            "text/plain": [
              "[0, 1, 2, 3, 4, 5, 6, 7, 8, 9]"
            ]
          },
          "metadata": {},
          "execution_count": 4
        }
      ]
    },
    {
      "cell_type": "code",
      "metadata": {
        "id": "R6S61bgIpHtr",
        "outputId": "c67ef292-ff9a-484b-c3a6-10dce50647d3",
        "colab": {
          "base_uri": "https://localhost:8080/"
        }
      },
      "source": [
        "for num in range(8):\n",
        "    print(num)"
      ],
      "execution_count": 6,
      "outputs": [
        {
          "output_type": "stream",
          "name": "stdout",
          "text": [
            "0\n",
            "1\n",
            "2\n",
            "3\n",
            "4\n",
            "5\n",
            "6\n",
            "7\n"
          ]
        }
      ]
    },
    {
      "cell_type": "code",
      "metadata": {
        "id": "0GZHU_cNpHts",
        "outputId": "b0414281-35ef-46c4-c6b3-ab25e4a467c3"
      },
      "source": [
        "for num in range(0, 3, 2):\n",
        "    print(num)"
      ],
      "execution_count": null,
      "outputs": [
        {
          "output_type": "stream",
          "text": [
            "0\n",
            "2\n"
          ],
          "name": "stdout"
        }
      ]
    },
    {
      "cell_type": "code",
      "metadata": {
        "id": "_WGhSu2FpHts",
        "outputId": "7f50533e-ccdb-4455-96be-e9214d80536b"
      },
      "source": [
        "counter = 0\n",
        "for char in \"adel bibi\":\n",
        "    print(\"At index {} the character is {}\".format(counter, char))\n",
        "    counter += 1"
      ],
      "execution_count": null,
      "outputs": [
        {
          "output_type": "stream",
          "text": [
            "At index 0 the character is a\n",
            "At index 1 the character is d\n",
            "At index 2 the character is e\n",
            "At index 3 the character is l\n",
            "At index 4 the character is  \n",
            "At index 5 the character is b\n",
            "At index 6 the character is i\n",
            "At index 7 the character is b\n",
            "At index 8 the character is i\n"
          ],
          "name": "stdout"
        }
      ]
    },
    {
      "cell_type": "code",
      "metadata": {
        "id": "Z1SV0fnzpHty",
        "outputId": "ece33e31-c7cd-4d7b-e2c2-6262bac346a7"
      },
      "source": [
        "counter = 0\n",
        "for item in enumerate(\"adel bibi\"):\n",
        "    print(item)"
      ],
      "execution_count": null,
      "outputs": [
        {
          "output_type": "stream",
          "text": [
            "(0, 'a')\n",
            "(1, 'd')\n",
            "(2, 'e')\n",
            "(3, 'l')\n",
            "(4, ' ')\n",
            "(5, 'b')\n",
            "(6, 'i')\n",
            "(7, 'b')\n",
            "(8, 'i')\n"
          ],
          "name": "stdout"
        }
      ]
    },
    {
      "cell_type": "code",
      "metadata": {
        "id": "UxUnKMyQpHty",
        "outputId": "62ab5a1a-0502-4a20-80a2-38cd2a822a9a"
      },
      "source": [
        "counter = 0\n",
        "for index, char in enumerate(\"adel bibi\"):\n",
        "    print(index, char)"
      ],
      "execution_count": null,
      "outputs": [
        {
          "output_type": "stream",
          "text": [
            "0 a\n",
            "1 d\n",
            "2 e\n",
            "3 l\n",
            "4  \n",
            "5 b\n",
            "6 i\n",
            "7 b\n",
            "8 i\n"
          ],
          "name": "stdout"
        }
      ]
    },
    {
      "cell_type": "markdown",
      "metadata": {
        "id": "dKvrIvgNpHty"
      },
      "source": [
        "# While Statements\n",
        "\n",
        "The general format of a while loop is:\n",
        "\n",
        "    while test:\n",
        "        code statements\n",
        "    else:\n",
        "        final code statements\n"
      ]
    },
    {
      "cell_type": "markdown",
      "metadata": {
        "id": "pGVziTdjpHty"
      },
      "source": [
        "## Example 1"
      ]
    },
    {
      "cell_type": "code",
      "metadata": {
        "id": "c6-P4C0npHtz",
        "outputId": "70e8b0e3-bfb9-4588-fabb-8f45d92496ff"
      },
      "source": [
        "x = 0\n",
        "\n",
        "while x < 6:\n",
        "    print('x = ',x)\n",
        "    print(' x < 6, adding 1 to x')\n",
        "    x+=1"
      ],
      "execution_count": null,
      "outputs": [
        {
          "output_type": "stream",
          "text": [
            "x =  0\n",
            " x < 6, adding 1 to x\n",
            "x =  1\n",
            " x < 6, adding 1 to x\n",
            "x =  2\n",
            " x < 6, adding 1 to x\n",
            "x =  3\n",
            " x < 6, adding 1 to x\n",
            "x =  4\n",
            " x < 6, adding 1 to x\n",
            "x =  5\n",
            " x < 6, adding 1 to x\n"
          ],
          "name": "stdout"
        }
      ]
    },
    {
      "cell_type": "markdown",
      "metadata": {
        "id": "6kynP6cipHtz"
      },
      "source": [
        "## Adding conditions\n",
        "\n",
        "    while test: \n",
        "        code statement\n",
        "        if test: \n",
        "            break\n",
        "        if test: \n",
        "            continue \n",
        "    else:"
      ]
    },
    {
      "cell_type": "code",
      "metadata": {
        "id": "KWT_2j5fpHtz",
        "outputId": "c4e3d2d3-96f4-4d18-a42c-ae03425e7de2"
      },
      "source": [
        "x = 0\n",
        "\n",
        "while x < 6:\n",
        "    print('x =',x)\n",
        "    print(' x < 6, adding 1 to x')\n",
        "    x+=1\n",
        "    if x==3:\n",
        "        print('Breaking because x==3')\n",
        "        break\n",
        "    else:\n",
        "        print('continuing...')\n",
        "        continue"
      ],
      "execution_count": null,
      "outputs": [
        {
          "output_type": "stream",
          "text": [
            "x = 0\n",
            " x < 6, adding 1 to x\n",
            "continuing...\n",
            "x = 1\n",
            " x < 6, adding 1 to x\n",
            "continuing...\n",
            "x = 2\n",
            " x < 6, adding 1 to x\n",
            "Breaking because x==3\n"
          ],
          "name": "stdout"
        }
      ]
    },
    {
      "cell_type": "markdown",
      "metadata": {
        "id": "tHiV6dZvpHtz"
      },
      "source": [
        "# Functions\n",
        "\n",
        "Python functions are defined using the `def` keyword. For example:"
      ]
    },
    {
      "cell_type": "code",
      "metadata": {
        "id": "jQvQx-VKpHt0"
      },
      "source": [
        "def sign(x):\n",
        "    if x > 0:\n",
        "        return 'positive'\n",
        "    elif x < 0:\n",
        "        return 'negative'\n",
        "    else:\n",
        "        return 'zero'"
      ],
      "execution_count": null,
      "outputs": []
    },
    {
      "cell_type": "code",
      "metadata": {
        "id": "u-4IN8KwpHt0",
        "outputId": "06949108-b45f-4845-84f2-689ef87da9ba"
      },
      "source": [
        "for x in [-1, 0, 1]:\n",
        "    print(sign(x))\n",
        "# Prints \"negative\", \"zero\", \"positive\""
      ],
      "execution_count": null,
      "outputs": [
        {
          "output_type": "stream",
          "text": [
            "negative\n",
            "zero\n",
            "positive\n"
          ],
          "name": "stdout"
        }
      ]
    },
    {
      "cell_type": "code",
      "metadata": {
        "id": "03Gqk9mfpHt0",
        "outputId": "37fa2d51-2c78-422d-f415-05f2ae56a257"
      },
      "source": [
        "def hello(name, loud=False):\n",
        "    if loud:\n",
        "        print('HELLO, {}!'.format(name.upper()))\n",
        "    else:\n",
        "        print('Hello, %s' % name)\n",
        "\n",
        "hello('Bob') # Prints \"Hello, Bob\"\n",
        "hello('Fred', loud=True)  # Prints \"HELLO, FRED!\""
      ],
      "execution_count": null,
      "outputs": [
        {
          "output_type": "stream",
          "text": [
            "Hello, Bob\n",
            "HELLO, FRED!\n"
          ],
          "name": "stdout"
        }
      ]
    },
    {
      "cell_type": "code",
      "metadata": {
        "id": "6rUpdcFXpHt1"
      },
      "source": [
        "def ell_2_norm(a,b):\n",
        "    y = (a**2 + b**2)**(0.5)\n",
        "    return y"
      ],
      "execution_count": null,
      "outputs": []
    },
    {
      "cell_type": "code",
      "metadata": {
        "id": "J4Zo8vsqpHt1",
        "outputId": "3e5283e6-e9ed-4309-8111-15a2e968253b"
      },
      "source": [
        "ell_2_norm(1,3)"
      ],
      "execution_count": null,
      "outputs": [
        {
          "output_type": "execute_result",
          "data": {
            "text/plain": [
              "3.1622776601683795"
            ]
          },
          "metadata": {
            "tags": []
          },
          "execution_count": 63
        }
      ]
    }
  ]
}